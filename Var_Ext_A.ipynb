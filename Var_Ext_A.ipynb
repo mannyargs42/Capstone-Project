{
 "cells": [
  {
   "cell_type": "code",
   "execution_count": 1,
   "id": "a580d191",
   "metadata": {},
   "outputs": [],
   "source": [
    "import numpy as np\n",
    "import pandas as pd\n",
    "import matplotlib.pyplot as plt\n",
    "import os\n",
    "from functools import reduce"
   ]
  },
  {
   "cell_type": "code",
   "execution_count": 2,
   "id": "e6caa828",
   "metadata": {},
   "outputs": [
    {
     "data": {
      "text/html": [
       "<div>\n",
       "<style scoped>\n",
       "    .dataframe tbody tr th:only-of-type {\n",
       "        vertical-align: middle;\n",
       "    }\n",
       "\n",
       "    .dataframe tbody tr th {\n",
       "        vertical-align: top;\n",
       "    }\n",
       "\n",
       "    .dataframe thead th {\n",
       "        text-align: right;\n",
       "    }\n",
       "</style>\n",
       "<table border=\"1\" class=\"dataframe\">\n",
       "  <thead>\n",
       "    <tr style=\"text-align: right;\">\n",
       "      <th></th>\n",
       "      <th>RecordID</th>\n",
       "      <th>Age</th>\n",
       "      <th>Gender</th>\n",
       "      <th>Height</th>\n",
       "      <th>ICUType</th>\n",
       "      <th>Weight</th>\n",
       "    </tr>\n",
       "  </thead>\n",
       "  <tbody>\n",
       "    <tr>\n",
       "      <th>0</th>\n",
       "      <td>132592.0</td>\n",
       "      <td>35.0</td>\n",
       "      <td>0.0</td>\n",
       "      <td>169.9</td>\n",
       "      <td>3.0</td>\n",
       "      <td>71.8</td>\n",
       "    </tr>\n",
       "    <tr>\n",
       "      <th>1</th>\n",
       "      <td>140662.0</td>\n",
       "      <td>42.0</td>\n",
       "      <td>1.0</td>\n",
       "      <td>169.9</td>\n",
       "      <td>3.0</td>\n",
       "      <td>138.1</td>\n",
       "    </tr>\n",
       "    <tr>\n",
       "      <th>2</th>\n",
       "      <td>140104.0</td>\n",
       "      <td>61.0</td>\n",
       "      <td>1.0</td>\n",
       "      <td>188.0</td>\n",
       "      <td>2.0</td>\n",
       "      <td>80.0</td>\n",
       "    </tr>\n",
       "    <tr>\n",
       "      <th>3</th>\n",
       "      <td>134685.0</td>\n",
       "      <td>53.0</td>\n",
       "      <td>0.0</td>\n",
       "      <td>170.2</td>\n",
       "      <td>4.0</td>\n",
       "      <td>96.1</td>\n",
       "    </tr>\n",
       "    <tr>\n",
       "      <th>4</th>\n",
       "      <td>134849.0</td>\n",
       "      <td>46.0</td>\n",
       "      <td>1.0</td>\n",
       "      <td>169.9</td>\n",
       "      <td>3.0</td>\n",
       "      <td>82.0</td>\n",
       "    </tr>\n",
       "  </tbody>\n",
       "</table>\n",
       "</div>"
      ],
      "text/plain": [
       "   RecordID   Age  Gender  Height  ICUType  Weight\n",
       "0  132592.0  35.0     0.0   169.9      3.0    71.8\n",
       "1  140662.0  42.0     1.0   169.9      3.0   138.1\n",
       "2  140104.0  61.0     1.0   188.0      2.0    80.0\n",
       "3  134685.0  53.0     0.0   170.2      4.0    96.1\n",
       "4  134849.0  46.0     1.0   169.9      3.0    82.0"
      ]
     },
     "execution_count": 2,
     "metadata": {},
     "output_type": "execute_result"
    }
   ],
   "source": [
    "df_static = pd.read_csv('pred_mor_static.csv')\n",
    "\n",
    "df_static.drop('Unnamed: 0', axis=1, inplace=True)\n",
    "df_static.head()"
   ]
  },
  {
   "cell_type": "code",
   "execution_count": 3,
   "id": "6f8db898",
   "metadata": {},
   "outputs": [
    {
     "name": "stdout",
     "output_type": "stream",
     "text": [
      "4000\n"
     ]
    }
   ],
   "source": [
    "print(len(df_static['RecordID'].unique()))"
   ]
  },
  {
   "cell_type": "code",
   "execution_count": 4,
   "id": "3a408604",
   "metadata": {
    "scrolled": false
   },
   "outputs": [],
   "source": [
    "df_time = pd.read_csv('pred_mor_time.csv')\n",
    "df_time.drop('Unnamed: 0', axis=1, inplace=True)"
   ]
  },
  {
   "cell_type": "code",
   "execution_count": 5,
   "id": "2239db0a",
   "metadata": {
    "scrolled": true
   },
   "outputs": [
    {
     "data": {
      "text/plain": [
       "[6665,\n",
       " 40232,\n",
       " 72039,\n",
       " 86042,\n",
       " 135093,\n",
       " 212847,\n",
       " 262537,\n",
       " 392663,\n",
       " 418567,\n",
       " 438694,\n",
       " 467905,\n",
       " 468914,\n",
       " 482840,\n",
       " 492957,\n",
       " 495514,\n",
       " 568946,\n",
       " 572825,\n",
       " 625918,\n",
       " 725335,\n",
       " 741944,\n",
       " 763767,\n",
       " 839454,\n",
       " 843277,\n",
       " 966568,\n",
       " 992748,\n",
       " 1009258,\n",
       " 1038761,\n",
       " 1057756,\n",
       " 1170646,\n",
       " 1280722,\n",
       " 1330015,\n",
       " 1468419,\n",
       " 1471287,\n",
       " 1527730,\n",
       " 1536990,\n",
       " 1629602,\n",
       " 1645757,\n",
       " 1702902,\n",
       " 1704320,\n",
       " 1729419]"
      ]
     },
     "execution_count": 5,
     "metadata": {},
     "output_type": "execute_result"
    }
   ],
   "source": [
    "df_time.index[df_time['Parameter'] == 'ICUType'].tolist()"
   ]
  },
  {
   "cell_type": "code",
   "execution_count": 6,
   "id": "c45facf9",
   "metadata": {},
   "outputs": [],
   "source": [
    "df_time = df_time[df_time.Parameter != 'Height']\n",
    "df_time = df_time[df_time.Parameter != 'Gender']\n",
    "df_time = df_time[df_time.Parameter != 'ICUType']"
   ]
  },
  {
   "cell_type": "code",
   "execution_count": 7,
   "id": "604fa396",
   "metadata": {},
   "outputs": [
    {
     "data": {
      "text/html": [
       "<div>\n",
       "<style scoped>\n",
       "    .dataframe tbody tr th:only-of-type {\n",
       "        vertical-align: middle;\n",
       "    }\n",
       "\n",
       "    .dataframe tbody tr th {\n",
       "        vertical-align: top;\n",
       "    }\n",
       "\n",
       "    .dataframe thead th {\n",
       "        text-align: right;\n",
       "    }\n",
       "</style>\n",
       "<table border=\"1\" class=\"dataframe\">\n",
       "  <thead>\n",
       "    <tr style=\"text-align: right;\">\n",
       "      <th></th>\n",
       "      <th>RecordID</th>\n",
       "      <th>Age</th>\n",
       "      <th>Gender</th>\n",
       "      <th>Height</th>\n",
       "      <th>ICUType</th>\n",
       "      <th>Weight</th>\n",
       "    </tr>\n",
       "  </thead>\n",
       "  <tbody>\n",
       "    <tr>\n",
       "      <th>183</th>\n",
       "      <td>140501.0</td>\n",
       "      <td>31.0</td>\n",
       "      <td>1.0</td>\n",
       "      <td>169.9</td>\n",
       "      <td>3.0</td>\n",
       "      <td>82.0</td>\n",
       "    </tr>\n",
       "    <tr>\n",
       "      <th>649</th>\n",
       "      <td>140936.0</td>\n",
       "      <td>49.0</td>\n",
       "      <td>1.0</td>\n",
       "      <td>169.9</td>\n",
       "      <td>3.0</td>\n",
       "      <td>82.0</td>\n",
       "    </tr>\n",
       "    <tr>\n",
       "      <th>1991</th>\n",
       "      <td>141264.0</td>\n",
       "      <td>90.0</td>\n",
       "      <td>0.0</td>\n",
       "      <td>169.9</td>\n",
       "      <td>3.0</td>\n",
       "      <td>82.0</td>\n",
       "    </tr>\n",
       "  </tbody>\n",
       "</table>\n",
       "</div>"
      ],
      "text/plain": [
       "      RecordID   Age  Gender  Height  ICUType  Weight\n",
       "183   140501.0  31.0     1.0   169.9      3.0    82.0\n",
       "649   140936.0  49.0     1.0   169.9      3.0    82.0\n",
       "1991  141264.0  90.0     0.0   169.9      3.0    82.0"
      ]
     },
     "execution_count": 7,
     "metadata": {},
     "output_type": "execute_result"
    }
   ],
   "source": [
    "df_static[~df_static.RecordID.isin(df_time.RecordID)]"
   ]
  },
  {
   "cell_type": "code",
   "execution_count": 8,
   "id": "1423ca0e",
   "metadata": {},
   "outputs": [],
   "source": [
    "dftime_order = df_time.sort_values(by=['RecordID', 'Time'])"
   ]
  },
  {
   "cell_type": "code",
   "execution_count": 9,
   "id": "0a2ef782",
   "metadata": {
    "scrolled": false
   },
   "outputs": [
    {
     "name": "stdout",
     "output_type": "stream",
     "text": [
      "3997\n"
     ]
    }
   ],
   "source": [
    "print(len(dftime_order['RecordID'].unique()))"
   ]
  },
  {
   "cell_type": "code",
   "execution_count": 10,
   "id": "20ef81ed",
   "metadata": {},
   "outputs": [],
   "source": [
    "dfstatic_order = df_static.sort_values(by=['RecordID'])"
   ]
  },
  {
   "cell_type": "code",
   "execution_count": 11,
   "id": "e79d0f46",
   "metadata": {
    "scrolled": true
   },
   "outputs": [
    {
     "name": "stdout",
     "output_type": "stream",
     "text": [
      "3997\n"
     ]
    }
   ],
   "source": [
    "row_index = sorted(df_time['RecordID'].unique())\n",
    "print(len(row_index))"
   ]
  },
  {
   "cell_type": "code",
   "execution_count": 12,
   "id": "e0f4b30f",
   "metadata": {
    "scrolled": true
   },
   "outputs": [
    {
     "data": {
      "text/plain": [
       "['ALP',\n",
       " 'ALT',\n",
       " 'AST',\n",
       " 'Albumin',\n",
       " 'BUN',\n",
       " 'Bilirubin',\n",
       " 'Cholesterol',\n",
       " 'Creatinine',\n",
       " 'DiasABP',\n",
       " 'FiO2',\n",
       " 'GCS',\n",
       " 'Glucose',\n",
       " 'HCO3',\n",
       " 'HCT',\n",
       " 'HR',\n",
       " 'K',\n",
       " 'Lactate',\n",
       " 'MAP',\n",
       " 'MechVent',\n",
       " 'Mg',\n",
       " 'NIDiasABP',\n",
       " 'NIMAP',\n",
       " 'NISysABP',\n",
       " 'Na',\n",
       " 'PaCO2',\n",
       " 'PaO2',\n",
       " 'Platelets',\n",
       " 'RespRate',\n",
       " 'SaO2',\n",
       " 'SysABP',\n",
       " 'Temp',\n",
       " 'TroponinI',\n",
       " 'TroponinT',\n",
       " 'Urine',\n",
       " 'WBC',\n",
       " 'Weight',\n",
       " 'pH']"
      ]
     },
     "execution_count": 12,
     "metadata": {},
     "output_type": "execute_result"
    }
   ],
   "source": [
    "params = sorted(df_time['Parameter'].unique())\n",
    "params"
   ]
  },
  {
   "cell_type": "code",
   "execution_count": 13,
   "id": "f42d4cef",
   "metadata": {},
   "outputs": [],
   "source": [
    "def extract_var(df, params, indexes):\n",
    "    df = df.copy()\n",
    "    \n",
    "    # create empty lists\n",
    "    col_headers = []\n",
    "    dflst = []\n",
    "    datalst = []\n",
    "    dfss = []\n",
    "    \n",
    "    for x in params:\n",
    "        col_head = []\n",
    "        # create new df containing only this specific param\n",
    "        new_df = df[df.iloc[:, 1] == x]\n",
    "        # append list with new df\n",
    "        dflst.append(new_df)\n",
    "        \n",
    "        # append col_head list with headers for stats for this param\n",
    "        col_head.append('RecordID')\n",
    "        col_head.append('{}_first'.format(x))\n",
    "        col_head.append('{}_last'.format(x))\n",
    "        col_head.append('{}_min'.format(x))\n",
    "        col_head.append('{}_max'.format(x))\n",
    "        col_head.append('{}_q1'.format(x))\n",
    "        col_head.append('{}_median'.format(x))\n",
    "        col_head.append('{}_q3'.format(x))\n",
    "        col_head.append('{}_mean'.format(x))\n",
    "        col_head.append('{}_count'.format(x))\n",
    "        \n",
    "        col_headers.append(col_head)\n",
    "    \n",
    "    # loop through dflst to get stats for each df\n",
    "    for y in dflst:\n",
    "        # make list where each ID occurs only once\n",
    "        uni_ids = y['RecordID'].unique()\n",
    "        \n",
    "        # create list to be filled with stats lists\n",
    "        lst = []\n",
    "        # for each recordID/patient, get the first, last, max, min\n",
    "            # mean, median, q1, q2, count values where possible\n",
    "        for z in uni_ids:\n",
    "            # create list to be filled with stats\n",
    "            idl = []\n",
    "            \n",
    "            # calc stats values\n",
    "            patient = y[y['RecordID'] == z]   \n",
    "            first = patient['Time'].idxmin\n",
    "            last = patient['Time'].idxmax\n",
    "            minv = patient['Value'].min()\n",
    "            maxv = patient['Value'].max()\n",
    "            q1 = patient['Value'].quantile(0.25)\n",
    "            median = patient['Value'].quantile(0.5)\n",
    "            q3 = patient['Value'].quantile(0.75)\n",
    "            mean = patient['Value'].mean()\n",
    "            count = patient['Value'].count()\n",
    "            iqr = q3 - q1\n",
    "\n",
    "            # append list with descriptive stats\n",
    "            idl.append(z)\n",
    "            idl.append(patient['Value'][first])\n",
    "            idl.append(patient['Value'][last])\n",
    "            if minv < (q1 - (1.5*iqr)):\n",
    "                idl.append(q1 - 0.5*iqr)\n",
    "            else:\n",
    "                idl.append(minv)\n",
    "            if maxv > (q3 + (1.5*iqr)):\n",
    "                idl.append(q3 + 0.5*iqr)\n",
    "            else:\n",
    "                idl.append(maxv)\n",
    "            idl.append(q1)\n",
    "            idl.append(median)\n",
    "            idl.append(q3)\n",
    "            idl.append(mean)\n",
    "            idl.append(count)\n",
    "            # append lst with list of stats\n",
    "            lst.append(idl)\n",
    "        # append datalst with list of lists of stats for each unique ID    \n",
    "        datalst.append(lst)\n",
    "    \n",
    "    # use enumerate to make use of indexes and create new dfs of stats\n",
    "        # with headers\n",
    "    for u,v in enumerate(col_headers):\n",
    "        stats = np.array(datalst[u])\n",
    "        new_df = pd.DataFrame(data=stats, columns=v)\n",
    "        # append dfss list with dfs for each parameter\n",
    "        dfss.append(new_df)\n",
    "        \n",
    "\n",
    "    # concatenate with outer join to keep all record IDs for each var\n",
    "        # will fill patients with no values for certain records w NaN\n",
    "    ext_var = reduce(lambda x, y: pd.merge(x, y, how='outer', on='RecordID'), dfss)\n",
    " \n",
    "    # return dataframe into new variable\n",
    "    return ext_var"
   ]
  },
  {
   "cell_type": "code",
   "execution_count": 14,
   "id": "ab61420c",
   "metadata": {},
   "outputs": [],
   "source": [
    "df_extvars = extract_var(dftime_order, params, row_index)"
   ]
  },
  {
   "cell_type": "code",
   "execution_count": 15,
   "id": "98895d52",
   "metadata": {},
   "outputs": [
    {
     "name": "stdout",
     "output_type": "stream",
     "text": [
      "A: (3997, 334)\n"
     ]
    }
   ],
   "source": [
    "print(\"A: {}\".format(df_extvars.shape))"
   ]
  },
  {
   "cell_type": "code",
   "execution_count": 16,
   "id": "5291ef8d",
   "metadata": {},
   "outputs": [],
   "source": [
    "dfstatic = dfstatic_order.astype('float')"
   ]
  },
  {
   "cell_type": "code",
   "execution_count": 17,
   "id": "0f86adac",
   "metadata": {},
   "outputs": [
    {
     "data": {
      "text/plain": [
       "RecordID         float64\n",
       "ALP_first        float64\n",
       "ALP_last         float64\n",
       "ALP_min          float64\n",
       "ALP_max          float64\n",
       "ALP_q1           float64\n",
       "ALP_median       float64\n",
       "ALP_q3           float64\n",
       "ALP_mean         float64\n",
       "ALP_count        float64\n",
       "ALT_first        float64\n",
       "ALT_last         float64\n",
       "ALT_min          float64\n",
       "ALT_max          float64\n",
       "ALT_q1           float64\n",
       "ALT_median       float64\n",
       "ALT_q3           float64\n",
       "ALT_mean         float64\n",
       "ALT_count        float64\n",
       "AST_first        float64\n",
       "AST_last         float64\n",
       "AST_min          float64\n",
       "AST_max          float64\n",
       "AST_q1           float64\n",
       "AST_median       float64\n",
       "AST_q3           float64\n",
       "AST_mean         float64\n",
       "AST_count        float64\n",
       "Albumin_first    float64\n",
       "Albumin_last     float64\n",
       "                  ...   \n",
       "Urine_q3         float64\n",
       "Urine_mean       float64\n",
       "Urine_count      float64\n",
       "WBC_first        float64\n",
       "WBC_last         float64\n",
       "WBC_min          float64\n",
       "WBC_max          float64\n",
       "WBC_q1           float64\n",
       "WBC_median       float64\n",
       "WBC_q3           float64\n",
       "WBC_mean         float64\n",
       "WBC_count        float64\n",
       "Weight_first     float64\n",
       "Weight_last      float64\n",
       "Weight_min       float64\n",
       "Weight_max       float64\n",
       "Weight_q1        float64\n",
       "Weight_median    float64\n",
       "Weight_q3        float64\n",
       "Weight_mean      float64\n",
       "Weight_count     float64\n",
       "pH_first         float64\n",
       "pH_last          float64\n",
       "pH_min           float64\n",
       "pH_max           float64\n",
       "pH_q1            float64\n",
       "pH_median        float64\n",
       "pH_q3            float64\n",
       "pH_mean          float64\n",
       "pH_count         float64\n",
       "Length: 334, dtype: object"
      ]
     },
     "execution_count": 17,
     "metadata": {},
     "output_type": "execute_result"
    }
   ],
   "source": [
    "df_extvars.dtypes\n"
   ]
  },
  {
   "cell_type": "code",
   "execution_count": 18,
   "id": "85fe219c",
   "metadata": {},
   "outputs": [],
   "source": [
    "df_extvar = df_extvars.sort_values(by=['RecordID'])"
   ]
  },
  {
   "cell_type": "code",
   "execution_count": 19,
   "id": "a19fe4c8",
   "metadata": {},
   "outputs": [],
   "source": [
    "final_stat = pd.merge(dfstatic, df_extvar, how='outer', on='RecordID')"
   ]
  },
  {
   "cell_type": "code",
   "execution_count": 20,
   "id": "d847ba82",
   "metadata": {},
   "outputs": [],
   "source": [
    "final_stat.to_csv('pred_ready.csv')"
   ]
  },
  {
   "cell_type": "code",
   "execution_count": null,
   "id": "03f9a612",
   "metadata": {},
   "outputs": [],
   "source": []
  }
 ],
 "metadata": {
  "kernelspec": {
   "display_name": "Python [conda env:py3]",
   "language": "python",
   "name": "conda-env-py3-py"
  },
  "language_info": {
   "codemirror_mode": {
    "name": "ipython",
    "version": 3
   },
   "file_extension": ".py",
   "mimetype": "text/x-python",
   "name": "python",
   "nbconvert_exporter": "python",
   "pygments_lexer": "ipython3",
   "version": "3.5.6"
  }
 },
 "nbformat": 4,
 "nbformat_minor": 5
}
