{
 "cells": [
  {
   "cell_type": "code",
   "execution_count": 2,
   "id": "ed080d7d",
   "metadata": {},
   "outputs": [],
   "source": [
    "import numpy as np\n",
    "import pandas as pd\n",
    "import matplotlib.pyplot as plt\n",
    "import os"
   ]
  },
  {
   "cell_type": "code",
   "execution_count": 3,
   "id": "820c2165",
   "metadata": {},
   "outputs": [],
   "source": [
    "IDs = []\n",
    "for file in os.listdir('/Users/manny/Downloads/predicting-mortality-of-icu-patients-the-physionet-computing-in-cardiology-challenge-2012-1.0.0/set_a'):\n",
    "    if file.endswith('.txt'):\n",
    "        IDs.append(file)\n",
    "        "
   ]
  },
  {
   "cell_type": "code",
   "execution_count": 4,
   "id": "af9103f6",
   "metadata": {},
   "outputs": [],
   "source": [
    "time_dfs = []\n",
    "static_dfs = []\n",
    "\n",
    "# use IDs list to make dataframes for each txt file\n",
    "for i in IDs:\n",
    "    # use read_csv to make dataframe\n",
    "    df = pd.read_csv('{}'.format(i))\n",
    "    \n",
    "    # make one dataframe with just temporal values\n",
    "    df['RecordID'] = df.at[0, 'Value']\n",
    "    df1 = df[6:]\n",
    "    \n",
    "    # make another dataframe with just static values\n",
    "    d = df[:6]\n",
    "    values = d['Value'].values    \n",
    "    df2 = pd.DataFrame([values], columns=['RecordID', 'Age', 'Gender', 'Height', 'ICUType', 'Weight'])\n",
    "    \n",
    "    # append lists with dataframes\n",
    "    time_dfs.append(df1)\n",
    "    static_dfs.append(df2)\n",
    "    \n",
    "# Concatenate all created dataframes into one\n",
    "df_time = pd.concat(time_dfs).reset_index(drop=True)\n",
    "df_static = pd.concat(static_dfs).reset_index(drop=True)"
   ]
  },
  {
   "cell_type": "code",
   "execution_count": 24,
   "id": "c7731362",
   "metadata": {},
   "outputs": [
    {
     "data": {
      "text/plain": [
       "(4000, 6)"
      ]
     },
     "execution_count": 24,
     "metadata": {},
     "output_type": "execute_result"
    }
   ],
   "source": [
    "df_static.shape"
   ]
  },
  {
   "cell_type": "code",
   "execution_count": 25,
   "id": "7f9d59ba",
   "metadata": {},
   "outputs": [
    {
     "data": {
      "text/plain": [
       "(1733980, 4)"
      ]
     },
     "execution_count": 25,
     "metadata": {},
     "output_type": "execute_result"
    }
   ],
   "source": [
    "df_time.shape"
   ]
  },
  {
   "cell_type": "code",
   "execution_count": 7,
   "id": "aadb5ab5",
   "metadata": {},
   "outputs": [],
   "source": [
    "# create function to replace missing/erroneous values in columns\n",
    "\n",
    "def data_preprocessing(series, ok_range):\n",
    "    col = series.copy()\n",
    "    good_values = []\n",
    "    indexes = []\n",
    "    \n",
    "    # append lists with good values and bad indexes\n",
    "    for i in series:\n",
    "        # if the metric is between an accepted range, use to calc mean\n",
    "        # ex: 7'5\" is max height, so if i is < 7'5\" it is added to list\n",
    "        if i >= ok_range[0] and i <= ok_range[1]:\n",
    "            good_values.append(i)\n",
    "            \n",
    "        # if out of range, replace with -5    \n",
    "        else:\n",
    "            x = col[col == i].index\n",
    "            indexes.append(x)\n",
    "    \n",
    "    # replace series values with -5\n",
    "    for x in indexes:\n",
    "        series[x] = -5\n",
    "        \n",
    "    # now replace bad values with mean for column\n",
    "    mean = sum(good_values) / len(good_values)\n",
    "    mean = round(mean, 1)\n",
    "    new_series = series.replace(-5, mean)\n",
    "    return new_series\n",
    "            \n",
    "            "
   ]
  },
  {
   "cell_type": "code",
   "execution_count": 28,
   "id": "0b56483a",
   "metadata": {},
   "outputs": [],
   "source": [
    "# create function to replace missing/erroneous values in columns\n",
    "\n",
    "def data_preprocessing2(series, ok_range):\n",
    "    col = series.copy()\n",
    "    good_values = []\n",
    "    indexes = []\n",
    "    \n",
    "    # append lists with good values and bad indexes\n",
    "    for i in series:\n",
    "        # if the metric is between an accepted range, use to calc mean\n",
    "        # ex: 7'5\" is max height, so if i is < 7'5\" it is added to list\n",
    "        if i >= ok_range[0] and i <= ok_range[1]:\n",
    "            good_values.append(i)\n",
    "            \n",
    "        # if out of range, replace with -5    \n",
    "        else:\n",
    "            x = col[col == i].index\n",
    "            indexes.append(x)\n",
    "    \n",
    "    # replace series values with -5\n",
    "    for x in indexes:\n",
    "        series[x] = -5\n",
    "        \n",
    "    # now replace bad values with mean for column\n",
    "    new_series = series.replace(-5, np.nan)\n",
    "    return new_series\n",
    "            "
   ]
  },
  {
   "cell_type": "code",
   "execution_count": 8,
   "id": "fadfe44b",
   "metadata": {
    "scrolled": true
   },
   "outputs": [],
   "source": [
    "height_col = data_preprocessing(df_static['Height'], [140, 230])"
   ]
  },
  {
   "cell_type": "code",
   "execution_count": 9,
   "id": "688dd529",
   "metadata": {
    "scrolled": true
   },
   "outputs": [],
   "source": [
    "weight_col = data_preprocessing(df_static['Weight'], [40, 301])"
   ]
  },
  {
   "cell_type": "code",
   "execution_count": 29,
   "id": "1c1d7a99",
   "metadata": {},
   "outputs": [],
   "source": [
    "gender_col = data_preprocessing2(df_static['Gender'], [0, 1])"
   ]
  },
  {
   "cell_type": "code",
   "execution_count": 30,
   "id": "1dec3c5f",
   "metadata": {},
   "outputs": [],
   "source": [
    "ICU_col = data_preprocessing2(df_static['ICUType'], [1, 4])"
   ]
  },
  {
   "cell_type": "code",
   "execution_count": 10,
   "id": "a9663ab0",
   "metadata": {},
   "outputs": [],
   "source": [
    "df_static['Height'] = height_col"
   ]
  },
  {
   "cell_type": "code",
   "execution_count": 11,
   "id": "1a484c15",
   "metadata": {
    "scrolled": true
   },
   "outputs": [],
   "source": [
    "df_static['Weight'] = weight_col"
   ]
  },
  {
   "cell_type": "code",
   "execution_count": 27,
   "id": "7b30fa65",
   "metadata": {},
   "outputs": [],
   "source": [
    "df_static['Gender'] = gender_col"
   ]
  },
  {
   "cell_type": "code",
   "execution_count": 32,
   "id": "b9905049",
   "metadata": {},
   "outputs": [],
   "source": [
    "df_static['ICUType'] = ICU_col"
   ]
  },
  {
   "cell_type": "code",
   "execution_count": 37,
   "id": "4f3ead31",
   "metadata": {},
   "outputs": [],
   "source": [
    "df_static = df_static.iloc[:, :6]"
   ]
  },
  {
   "cell_type": "code",
   "execution_count": 52,
   "id": "5f1b3983",
   "metadata": {},
   "outputs": [
    {
     "data": {
      "text/plain": [
       "(4000, 6)"
      ]
     },
     "execution_count": 52,
     "metadata": {},
     "output_type": "execute_result"
    }
   ],
   "source": [
    "df_static.shape"
   ]
  },
  {
   "cell_type": "code",
   "execution_count": 39,
   "id": "dbb14b94",
   "metadata": {},
   "outputs": [],
   "source": [
    "df_static.to_csv('pred_mor_static.csv')"
   ]
  },
  {
   "cell_type": "code",
   "execution_count": null,
   "id": "f256ae91",
   "metadata": {},
   "outputs": [],
   "source": []
  },
  {
   "cell_type": "code",
   "execution_count": 15,
   "id": "0e6e7709",
   "metadata": {},
   "outputs": [],
   "source": [
    "def time_to_hours(series):\n",
    "    series = series.copy()\n",
    "    lols = []\n",
    "    \n",
    "    for i in series:\n",
    "        j = int(i[:2])\n",
    "        k = int(i[-2:])\n",
    "        l = j + (k / 60)\n",
    "        lols.append(round(l, 2))    \n",
    "    return lols\n",
    "            \n",
    "            "
   ]
  },
  {
   "cell_type": "code",
   "execution_count": 16,
   "id": "61d2e42e",
   "metadata": {},
   "outputs": [],
   "source": [
    "hours = pd.Series(time_to_hours(df_time['Time']))\n"
   ]
  },
  {
   "cell_type": "code",
   "execution_count": 18,
   "id": "22b02bc8",
   "metadata": {},
   "outputs": [],
   "source": [
    "df_time['Time'] = hours"
   ]
  },
  {
   "cell_type": "code",
   "execution_count": 40,
   "id": "a3726c3c",
   "metadata": {},
   "outputs": [
    {
     "data": {
      "text/html": [
       "<div>\n",
       "<style scoped>\n",
       "    .dataframe tbody tr th:only-of-type {\n",
       "        vertical-align: middle;\n",
       "    }\n",
       "\n",
       "    .dataframe tbody tr th {\n",
       "        vertical-align: top;\n",
       "    }\n",
       "\n",
       "    .dataframe thead th {\n",
       "        text-align: right;\n",
       "    }\n",
       "</style>\n",
       "<table border=\"1\" class=\"dataframe\">\n",
       "  <thead>\n",
       "    <tr style=\"text-align: right;\">\n",
       "      <th></th>\n",
       "      <th>Time</th>\n",
       "      <th>Parameter</th>\n",
       "      <th>Value</th>\n",
       "      <th>RecordID</th>\n",
       "    </tr>\n",
       "  </thead>\n",
       "  <tbody>\n",
       "    <tr>\n",
       "      <th>0</th>\n",
       "      <td>1.33</td>\n",
       "      <td>GCS</td>\n",
       "      <td>15.00</td>\n",
       "      <td>132592.0</td>\n",
       "    </tr>\n",
       "    <tr>\n",
       "      <th>1</th>\n",
       "      <td>1.33</td>\n",
       "      <td>HR</td>\n",
       "      <td>112.00</td>\n",
       "      <td>132592.0</td>\n",
       "    </tr>\n",
       "    <tr>\n",
       "      <th>2</th>\n",
       "      <td>1.33</td>\n",
       "      <td>NIDiasABP</td>\n",
       "      <td>43.00</td>\n",
       "      <td>132592.0</td>\n",
       "    </tr>\n",
       "    <tr>\n",
       "      <th>3</th>\n",
       "      <td>1.33</td>\n",
       "      <td>NIMAP</td>\n",
       "      <td>68.67</td>\n",
       "      <td>132592.0</td>\n",
       "    </tr>\n",
       "    <tr>\n",
       "      <th>4</th>\n",
       "      <td>1.33</td>\n",
       "      <td>NISysABP</td>\n",
       "      <td>120.00</td>\n",
       "      <td>132592.0</td>\n",
       "    </tr>\n",
       "  </tbody>\n",
       "</table>\n",
       "</div>"
      ],
      "text/plain": [
       "   Time  Parameter   Value  RecordID\n",
       "0  1.33        GCS   15.00  132592.0\n",
       "1  1.33         HR  112.00  132592.0\n",
       "2  1.33  NIDiasABP   43.00  132592.0\n",
       "3  1.33      NIMAP   68.67  132592.0\n",
       "4  1.33   NISysABP  120.00  132592.0"
      ]
     },
     "execution_count": 40,
     "metadata": {},
     "output_type": "execute_result"
    }
   ],
   "source": [
    "df_time.head()"
   ]
  },
  {
   "cell_type": "code",
   "execution_count": 53,
   "id": "8f63f85c",
   "metadata": {},
   "outputs": [
    {
     "data": {
      "text/plain": [
       "<bound method IndexOpsMixin.value_counts of 0                GCS\n",
       "1                 HR\n",
       "2          NIDiasABP\n",
       "3              NIMAP\n",
       "4           NISysABP\n",
       "             ...    \n",
       "1733975        Urine\n",
       "1733976      DiasABP\n",
       "1733977           HR\n",
       "1733978          MAP\n",
       "1733979       SysABP\n",
       "Name: Parameter, Length: 1733980, dtype: object>"
      ]
     },
     "execution_count": 53,
     "metadata": {},
     "output_type": "execute_result"
    }
   ],
   "source": [
    "df_time.Parameter.value_counts"
   ]
  },
  {
   "cell_type": "code",
   "execution_count": 20,
   "id": "62e27fec",
   "metadata": {},
   "outputs": [],
   "source": [
    "df_time.to_csv('pred_mor_time.csv')"
   ]
  },
  {
   "cell_type": "code",
   "execution_count": null,
   "id": "eff8f385",
   "metadata": {},
   "outputs": [],
   "source": []
  },
  {
   "cell_type": "code",
   "execution_count": 41,
   "id": "09a94c4a",
   "metadata": {},
   "outputs": [],
   "source": [
    "df1 = df_time[df_time['RecordID'] == 132592]"
   ]
  },
  {
   "cell_type": "code",
   "execution_count": 50,
   "id": "a0546897",
   "metadata": {},
   "outputs": [
    {
     "data": {
      "text/plain": [
       "603.0"
      ]
     },
     "execution_count": 50,
     "metadata": {},
     "output_type": "execute_result"
    }
   ],
   "source": [
    "df1l.max()"
   ]
  },
  {
   "cell_type": "code",
   "execution_count": 48,
   "id": "98a888b3",
   "metadata": {},
   "outputs": [
    {
     "name": "stdout",
     "output_type": "stream",
     "text": [
      "    Time   Parameter   Value  RecordID\n",
      "0   1.33         GCS   15.00  132592.0\n",
      "1   1.33          HR  112.00  132592.0\n",
      "2   1.33   NIDiasABP   43.00  132592.0\n",
      "3   1.33       NIMAP   68.67  132592.0\n",
      "4   1.33    NISysABP  120.00  132592.0\n",
      "5   1.33    RespRate   22.00  132592.0\n",
      "6   1.33        Temp   36.60  132592.0\n",
      "7   1.33      Weight   71.80  132592.0\n",
      "8   2.33          HR  113.00  132592.0\n",
      "9   2.33   NIDiasABP   53.00  132592.0\n",
      "10  2.33       NIMAP   76.67  132592.0\n",
      "11  2.33    NISysABP  124.00  132592.0\n",
      "12  2.33    RespRate   21.00  132592.0\n",
      "13  2.33       Urine  120.00  132592.0\n",
      "14  2.33      Weight   71.80  132592.0\n",
      "15  2.60         BUN   68.00  132592.0\n",
      "16  2.60  Creatinine    2.30  132592.0\n",
      "17  2.60     Glucose  603.00  132592.0\n",
      "18  2.60        HCO3   11.00  132592.0\n",
      "19  2.60         HCT   25.50  132592.0\n",
      "20  2.60          Mg    2.80  132592.0\n",
      "21  2.60   Platelets  287.00  132592.0\n",
      "22  2.60           K    5.30  132592.0\n",
      "23  2.60          Na  140.00  132592.0\n",
      "24  2.60   TroponinT    0.15  132592.0\n",
      "25  2.60         WBC   15.30  132592.0\n",
      "26  3.33          HR  112.00  132592.0\n",
      "27  3.33   NIDiasABP   48.00  132592.0\n",
      "28  3.33       NIMAP   71.33  132592.0\n",
      "29  3.33    NISysABP  118.00  132592.0\n",
      "30  3.33    RespRate   24.00  132592.0\n",
      "31  3.33       Urine   60.00  132592.0\n",
      "32  3.33      Weight   71.80  132592.0\n",
      "33  4.33          HR  113.00  132592.0\n",
      "34  4.33   NIDiasABP   59.00  132592.0\n",
      "35  4.33       NIMAP   81.33  132592.0\n",
      "36  4.33    NISysABP  126.00  132592.0\n",
      "37  4.33    RespRate   14.00  132592.0\n",
      "38  4.33       Urine   60.00  132592.0\n",
      "39  4.33      Weight   71.80  132592.0\n",
      "40  5.33         BUN   61.00  132592.0\n",
      "41  5.33  Creatinine    2.00  132592.0\n",
      "42  5.33     Glucose  362.00  132592.0\n",
      "43  5.33        HCO3   15.00  132592.0\n",
      "44  5.33         HCT   23.70  132592.0\n",
      "45  5.33          HR  115.00  132592.0\n",
      "46  5.33          Mg    2.20  132592.0\n",
      "47  5.33   NIDiasABP   63.00  132592.0\n",
      "48  5.33       NIMAP   84.33  132592.0\n",
      "49  5.33    NISysABP  127.00  132592.0\n"
     ]
    }
   ],
   "source": [
    "print(df1[:50])"
   ]
  },
  {
   "cell_type": "markdown",
   "id": "34011386",
   "metadata": {},
   "source": [
    "# Preparing Test Set"
   ]
  },
  {
   "cell_type": "code",
   "execution_count": null,
   "id": "e145ba24",
   "metadata": {},
   "outputs": [],
   "source": [
    "test_IDs = []\n",
    "for file in os.listdir('/Users/manny/Downloads/predicting-mortality-of-icu-patients-the-physionet-computing-in-cardiology-challenge-2012-1.0.0/Outcomes-a.txt'):\n",
    "    if file.endswith('.txt'):\n",
    "        IDs.append(file)"
   ]
  },
  {
   "cell_type": "code",
   "execution_count": 54,
   "id": "da9b4f89",
   "metadata": {},
   "outputs": [],
   "source": [
    "df_test = pd.read_csv('/Users/manny/Downloads/predicting-mortality-of-icu-patients-the-physionet-computing-in-cardiology-challenge-2012-1.0.0/Outcomes-a.txt')"
   ]
  },
  {
   "cell_type": "code",
   "execution_count": 55,
   "id": "a7b6fc43",
   "metadata": {},
   "outputs": [
    {
     "data": {
      "text/html": [
       "<div>\n",
       "<style scoped>\n",
       "    .dataframe tbody tr th:only-of-type {\n",
       "        vertical-align: middle;\n",
       "    }\n",
       "\n",
       "    .dataframe tbody tr th {\n",
       "        vertical-align: top;\n",
       "    }\n",
       "\n",
       "    .dataframe thead th {\n",
       "        text-align: right;\n",
       "    }\n",
       "</style>\n",
       "<table border=\"1\" class=\"dataframe\">\n",
       "  <thead>\n",
       "    <tr style=\"text-align: right;\">\n",
       "      <th></th>\n",
       "      <th>RecordID</th>\n",
       "      <th>SAPS-I</th>\n",
       "      <th>SOFA</th>\n",
       "      <th>Length_of_stay</th>\n",
       "      <th>Survival</th>\n",
       "      <th>In-hospital_death</th>\n",
       "    </tr>\n",
       "  </thead>\n",
       "  <tbody>\n",
       "    <tr>\n",
       "      <th>0</th>\n",
       "      <td>132539</td>\n",
       "      <td>6</td>\n",
       "      <td>1</td>\n",
       "      <td>5</td>\n",
       "      <td>-1</td>\n",
       "      <td>0</td>\n",
       "    </tr>\n",
       "    <tr>\n",
       "      <th>1</th>\n",
       "      <td>132540</td>\n",
       "      <td>16</td>\n",
       "      <td>8</td>\n",
       "      <td>8</td>\n",
       "      <td>-1</td>\n",
       "      <td>0</td>\n",
       "    </tr>\n",
       "    <tr>\n",
       "      <th>2</th>\n",
       "      <td>132541</td>\n",
       "      <td>21</td>\n",
       "      <td>11</td>\n",
       "      <td>19</td>\n",
       "      <td>-1</td>\n",
       "      <td>0</td>\n",
       "    </tr>\n",
       "    <tr>\n",
       "      <th>3</th>\n",
       "      <td>132543</td>\n",
       "      <td>7</td>\n",
       "      <td>1</td>\n",
       "      <td>9</td>\n",
       "      <td>575</td>\n",
       "      <td>0</td>\n",
       "    </tr>\n",
       "    <tr>\n",
       "      <th>4</th>\n",
       "      <td>132545</td>\n",
       "      <td>17</td>\n",
       "      <td>2</td>\n",
       "      <td>4</td>\n",
       "      <td>918</td>\n",
       "      <td>0</td>\n",
       "    </tr>\n",
       "    <tr>\n",
       "      <th>...</th>\n",
       "      <td>...</td>\n",
       "      <td>...</td>\n",
       "      <td>...</td>\n",
       "      <td>...</td>\n",
       "      <td>...</td>\n",
       "      <td>...</td>\n",
       "    </tr>\n",
       "    <tr>\n",
       "      <th>3995</th>\n",
       "      <td>142665</td>\n",
       "      <td>19</td>\n",
       "      <td>7</td>\n",
       "      <td>10</td>\n",
       "      <td>336</td>\n",
       "      <td>0</td>\n",
       "    </tr>\n",
       "    <tr>\n",
       "      <th>3996</th>\n",
       "      <td>142667</td>\n",
       "      <td>8</td>\n",
       "      <td>2</td>\n",
       "      <td>3</td>\n",
       "      <td>-1</td>\n",
       "      <td>0</td>\n",
       "    </tr>\n",
       "    <tr>\n",
       "      <th>3997</th>\n",
       "      <td>142670</td>\n",
       "      <td>8</td>\n",
       "      <td>5</td>\n",
       "      <td>11</td>\n",
       "      <td>-1</td>\n",
       "      <td>0</td>\n",
       "    </tr>\n",
       "    <tr>\n",
       "      <th>3998</th>\n",
       "      <td>142671</td>\n",
       "      <td>22</td>\n",
       "      <td>10</td>\n",
       "      <td>8</td>\n",
       "      <td>7</td>\n",
       "      <td>1</td>\n",
       "    </tr>\n",
       "    <tr>\n",
       "      <th>3999</th>\n",
       "      <td>142673</td>\n",
       "      <td>25</td>\n",
       "      <td>11</td>\n",
       "      <td>7</td>\n",
       "      <td>-1</td>\n",
       "      <td>0</td>\n",
       "    </tr>\n",
       "  </tbody>\n",
       "</table>\n",
       "<p>4000 rows × 6 columns</p>\n",
       "</div>"
      ],
      "text/plain": [
       "      RecordID  SAPS-I  SOFA  Length_of_stay  Survival  In-hospital_death\n",
       "0       132539       6     1               5        -1                  0\n",
       "1       132540      16     8               8        -1                  0\n",
       "2       132541      21    11              19        -1                  0\n",
       "3       132543       7     1               9       575                  0\n",
       "4       132545      17     2               4       918                  0\n",
       "...        ...     ...   ...             ...       ...                ...\n",
       "3995    142665      19     7              10       336                  0\n",
       "3996    142667       8     2               3        -1                  0\n",
       "3997    142670       8     5              11        -1                  0\n",
       "3998    142671      22    10               8         7                  1\n",
       "3999    142673      25    11               7        -1                  0\n",
       "\n",
       "[4000 rows x 6 columns]"
      ]
     },
     "execution_count": 55,
     "metadata": {},
     "output_type": "execute_result"
    }
   ],
   "source": [
    "df_test"
   ]
  },
  {
   "cell_type": "code",
   "execution_count": 57,
   "id": "d4215ba1",
   "metadata": {},
   "outputs": [],
   "source": [
    "outcomes = df_test.drop(['SAPS-I', 'SOFA', 'Length_of_stay', 'Survival'], axis=1)"
   ]
  },
  {
   "cell_type": "code",
   "execution_count": 58,
   "id": "0b8cbd74",
   "metadata": {},
   "outputs": [
    {
     "data": {
      "text/html": [
       "<div>\n",
       "<style scoped>\n",
       "    .dataframe tbody tr th:only-of-type {\n",
       "        vertical-align: middle;\n",
       "    }\n",
       "\n",
       "    .dataframe tbody tr th {\n",
       "        vertical-align: top;\n",
       "    }\n",
       "\n",
       "    .dataframe thead th {\n",
       "        text-align: right;\n",
       "    }\n",
       "</style>\n",
       "<table border=\"1\" class=\"dataframe\">\n",
       "  <thead>\n",
       "    <tr style=\"text-align: right;\">\n",
       "      <th></th>\n",
       "      <th>RecordID</th>\n",
       "      <th>In-hospital_death</th>\n",
       "    </tr>\n",
       "  </thead>\n",
       "  <tbody>\n",
       "    <tr>\n",
       "      <th>0</th>\n",
       "      <td>132539</td>\n",
       "      <td>0</td>\n",
       "    </tr>\n",
       "    <tr>\n",
       "      <th>1</th>\n",
       "      <td>132540</td>\n",
       "      <td>0</td>\n",
       "    </tr>\n",
       "    <tr>\n",
       "      <th>2</th>\n",
       "      <td>132541</td>\n",
       "      <td>0</td>\n",
       "    </tr>\n",
       "    <tr>\n",
       "      <th>3</th>\n",
       "      <td>132543</td>\n",
       "      <td>0</td>\n",
       "    </tr>\n",
       "    <tr>\n",
       "      <th>4</th>\n",
       "      <td>132545</td>\n",
       "      <td>0</td>\n",
       "    </tr>\n",
       "    <tr>\n",
       "      <th>...</th>\n",
       "      <td>...</td>\n",
       "      <td>...</td>\n",
       "    </tr>\n",
       "    <tr>\n",
       "      <th>3995</th>\n",
       "      <td>142665</td>\n",
       "      <td>0</td>\n",
       "    </tr>\n",
       "    <tr>\n",
       "      <th>3996</th>\n",
       "      <td>142667</td>\n",
       "      <td>0</td>\n",
       "    </tr>\n",
       "    <tr>\n",
       "      <th>3997</th>\n",
       "      <td>142670</td>\n",
       "      <td>0</td>\n",
       "    </tr>\n",
       "    <tr>\n",
       "      <th>3998</th>\n",
       "      <td>142671</td>\n",
       "      <td>1</td>\n",
       "    </tr>\n",
       "    <tr>\n",
       "      <th>3999</th>\n",
       "      <td>142673</td>\n",
       "      <td>0</td>\n",
       "    </tr>\n",
       "  </tbody>\n",
       "</table>\n",
       "<p>4000 rows × 2 columns</p>\n",
       "</div>"
      ],
      "text/plain": [
       "      RecordID  In-hospital_death\n",
       "0       132539                  0\n",
       "1       132540                  0\n",
       "2       132541                  0\n",
       "3       132543                  0\n",
       "4       132545                  0\n",
       "...        ...                ...\n",
       "3995    142665                  0\n",
       "3996    142667                  0\n",
       "3997    142670                  0\n",
       "3998    142671                  1\n",
       "3999    142673                  0\n",
       "\n",
       "[4000 rows x 2 columns]"
      ]
     },
     "execution_count": 58,
     "metadata": {},
     "output_type": "execute_result"
    }
   ],
   "source": [
    "outcomes"
   ]
  },
  {
   "cell_type": "code",
   "execution_count": 59,
   "id": "8c30861c",
   "metadata": {},
   "outputs": [],
   "source": [
    "outcomes = outcomes.sort_values(by=['RecordID'])"
   ]
  },
  {
   "cell_type": "code",
   "execution_count": 60,
   "id": "90a3d0c5",
   "metadata": {},
   "outputs": [],
   "source": [
    "outcomes.to_csv('outcomes_a.csv')"
   ]
  },
  {
   "cell_type": "code",
   "execution_count": null,
   "id": "ad11be48",
   "metadata": {},
   "outputs": [],
   "source": []
  }
 ],
 "metadata": {
  "kernelspec": {
   "display_name": "Python 3 (ipykernel)",
   "language": "python",
   "name": "python3"
  },
  "language_info": {
   "codemirror_mode": {
    "name": "ipython",
    "version": 3
   },
   "file_extension": ".py",
   "mimetype": "text/x-python",
   "name": "python",
   "nbconvert_exporter": "python",
   "pygments_lexer": "ipython3",
   "version": "3.7.10"
  }
 },
 "nbformat": 4,
 "nbformat_minor": 5
}
